{
 "metadata": {
  "language_info": {
   "codemirror_mode": {
    "name": "ipython",
    "version": 3
   },
   "file_extension": ".py",
   "mimetype": "text/x-python",
   "name": "python",
   "nbconvert_exporter": "python",
   "pygments_lexer": "ipython3",
   "version": 3
  },
  "orig_nbformat": 2,
  "kernelspec": {
   "name": "python_defaultSpec_1596373031179",
   "display_name": "Python 3.8.3 64-bit"
  }
 },
 "nbformat": 4,
 "nbformat_minor": 2,
 "cells": [
  {
   "cell_type": "code",
   "execution_count": 1,
   "metadata": {},
   "outputs": [],
   "source": [
    "import pandas as pd\n",
    "import numpy as np\n",
    "import matplotlib.pyplot as plt\n",
    "from matplotlib import style\n",
    "style.use(\"seaborn\")\n"
   ]
  },
  {
   "cell_type": "code",
   "execution_count": 11,
   "metadata": {},
   "outputs": [],
   "source": [
    "monthAbbreviation = {\n",
    "    \"01\": \"Jan\",\n",
    "    \"02\": \"Feb\",\n",
    "    \"03\": \"Mar\",\n",
    "    \"04\": \"Apr\",\n",
    "    \"05\": \"May\",\n",
    "    \"06\": \"Jun\",\n",
    "    \"07\": \"Jul\",\n",
    "    \"08\": \"Aug\",\n",
    "    \"09\": \"Sep\",\n",
    "    \"10\": \"Oct\",\n",
    "    \"11\": \"Nov\",\n",
    "    \"12\": \"Dec\"\n",
    "}"
   ]
  },
  {
   "cell_type": "code",
   "execution_count": 5,
   "metadata": {},
   "outputs": [],
   "source": [
    "df = pd.read_csv(\"../database/result.csv\",parse_dates=[\"startDate\"])\n",
    "df[\"Duration\"] = df[\"Hour\"] * 60 + df[\"Minute\"]"
   ]
  },
  {
   "cell_type": "code",
   "execution_count": 14,
   "metadata": {},
   "outputs": [
    {
     "output_type": "execute_result",
     "data": {
      "text/plain": "    startDate  Hour  Minute  Duration labelDate\n16 2020-07-27     0      70        70    27 Jul\n17 2020-07-28     2     180       300    28 Jul\n18 2020-07-29     2     149       269    29 Jul\n19 2020-07-30     1      90       150    30 Jul\n20 2020-07-31     1     135       195    31 Jul\n21 2020-08-01     2     151       271    01 Aug\n22 2020-08-02     0      45        45    02 Aug",
      "text/html": "<div>\n<style scoped>\n    .dataframe tbody tr th:only-of-type {\n        vertical-align: middle;\n    }\n\n    .dataframe tbody tr th {\n        vertical-align: top;\n    }\n\n    .dataframe thead th {\n        text-align: right;\n    }\n</style>\n<table border=\"1\" class=\"dataframe\">\n  <thead>\n    <tr style=\"text-align: right;\">\n      <th></th>\n      <th>startDate</th>\n      <th>Hour</th>\n      <th>Minute</th>\n      <th>Duration</th>\n      <th>labelDate</th>\n    </tr>\n  </thead>\n  <tbody>\n    <tr>\n      <th>16</th>\n      <td>2020-07-27</td>\n      <td>0</td>\n      <td>70</td>\n      <td>70</td>\n      <td>27 Jul</td>\n    </tr>\n    <tr>\n      <th>17</th>\n      <td>2020-07-28</td>\n      <td>2</td>\n      <td>180</td>\n      <td>300</td>\n      <td>28 Jul</td>\n    </tr>\n    <tr>\n      <th>18</th>\n      <td>2020-07-29</td>\n      <td>2</td>\n      <td>149</td>\n      <td>269</td>\n      <td>29 Jul</td>\n    </tr>\n    <tr>\n      <th>19</th>\n      <td>2020-07-30</td>\n      <td>1</td>\n      <td>90</td>\n      <td>150</td>\n      <td>30 Jul</td>\n    </tr>\n    <tr>\n      <th>20</th>\n      <td>2020-07-31</td>\n      <td>1</td>\n      <td>135</td>\n      <td>195</td>\n      <td>31 Jul</td>\n    </tr>\n    <tr>\n      <th>21</th>\n      <td>2020-08-01</td>\n      <td>2</td>\n      <td>151</td>\n      <td>271</td>\n      <td>01 Aug</td>\n    </tr>\n    <tr>\n      <th>22</th>\n      <td>2020-08-02</td>\n      <td>0</td>\n      <td>45</td>\n      <td>45</td>\n      <td>02 Aug</td>\n    </tr>\n  </tbody>\n</table>\n</div>"
     },
     "metadata": {},
     "execution_count": 14
    }
   ],
   "source": [
    "Datewise = df.groupby([\"startDate\"]).sum().reset_index()\n",
    "Datewise[\"labelDate\"] = [str(i).split(\" \")[0].split(\"-\")[-1] +\" \" + monthAbbreviation[str(i).split(\" \")[0].split(\"-\")[-2]] for i in Datewise[\"startDate\"]]\n",
    "Datewise.tail(7)"
   ]
  },
  {
   "cell_type": "code",
   "execution_count": null,
   "metadata": {},
   "outputs": [],
   "source": []
  }
 ]
}