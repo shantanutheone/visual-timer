{
 "metadata": {
  "language_info": {
   "codemirror_mode": {
    "name": "ipython",
    "version": 3
   },
   "file_extension": ".py",
   "mimetype": "text/x-python",
   "name": "python",
   "nbconvert_exporter": "python",
   "pygments_lexer": "ipython3",
   "version": "3.8.3-final"
  },
  "orig_nbformat": 2,
  "kernelspec": {
   "name": "python_defaultSpec_1598971338524",
   "display_name": "Python 3.8.3 64-bit"
  }
 },
 "nbformat": 4,
 "nbformat_minor": 2,
 "cells": [
  {
   "cell_type": "code",
   "execution_count": 1,
   "metadata": {},
   "outputs": [],
   "source": [
    "import pandas as pd"
   ]
  },
  {
   "cell_type": "code",
   "execution_count": 3,
   "metadata": {},
   "outputs": [],
   "source": [
    "df = pd.read_csv(\"../database/result.csv\")"
   ]
  },
  {
   "cell_type": "code",
   "execution_count": 8,
   "metadata": {},
   "outputs": [
    {
     "output_type": "execute_result",
     "data": {
      "text/plain": "['intel',\n 'hrexer',\n 'bootstrap',\n 'basics',\n 'nginx',\n 'supervised learning',\n 'linter',\n 'basics',\n 'nginx',\n 'hrexer',\n 'chart.js',\n 'quiz',\n 'basics',\n 'nginx',\n 'intel',\n 'hrexer',\n 'bootstrap',\n 'basics',\n 'nginx',\n 'supervised learning',\n 'linter',\n 'basics',\n 'nginx',\n 'hrexer',\n 'chart.js',\n 'quiz',\n 'basics',\n 'nginx',\n 'learning language']"
     },
     "metadata": {},
     "execution_count": 8
    }
   ],
   "source": [
    "[i.lower() for i in df[\"SubTopic\"]]"
   ]
  },
  {
   "cell_type": "code",
   "execution_count": null,
   "metadata": {},
   "outputs": [],
   "source": []
  }
 ]
}