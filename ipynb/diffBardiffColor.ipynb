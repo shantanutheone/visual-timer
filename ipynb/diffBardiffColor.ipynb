{
 "metadata": {
  "language_info": {
   "codemirror_mode": {
    "name": "ipython",
    "version": 3
   },
   "file_extension": ".py",
   "mimetype": "text/x-python",
   "name": "python",
   "nbconvert_exporter": "python",
   "pygments_lexer": "ipython3",
   "version": 3
  },
  "orig_nbformat": 2,
  "kernelspec": {
   "name": "python_defaultSpec_1595161581324",
   "display_name": "Python 3.8.3 64-bit"
  }
 },
 "nbformat": 4,
 "nbformat_minor": 2,
 "cells": [
  {
   "cell_type": "markdown",
   "metadata": {},
   "source": [
    "| Hour        | Color           | \n",
    "| ------------- |:-------------:| \n",
    "|0|grey|\n",
    "| 1      | grey | \n",
    "| 2      | green     |  \n",
    "| 3 |      blue |\n",
    "| 4 | orange | \n",
    "| 5 | pink   |  \n",
    "| 6 |  red |\n",
    "| 7 |        legendary grandmaster = #ff9999 |\n"
   ]
  },
  {
   "cell_type": "code",
   "execution_count": 1,
   "metadata": {},
   "outputs": [],
   "source": [
    "import pandas as pd"
   ]
  },
  {
   "cell_type": "code",
   "execution_count": 2,
   "metadata": {},
   "outputs": [],
   "source": [
    "import matplotlib.pyplot as plt"
   ]
  },
  {
   "cell_type": "code",
   "execution_count": 17,
   "metadata": {},
   "outputs": [],
   "source": [
    "BarColorDatewise = pd.read_csv(\"../database/timeColor.csv\")"
   ]
  },
  {
   "cell_type": "code",
   "execution_count": 6,
   "metadata": {},
   "outputs": [
    {
     "output_type": "execute_result",
     "data": {
      "text/plain": "   Hour  CodeforcesColor\n0     0          #808080\n1     1         #808080 \n2     2  #e6ffe6        \n3     3         #ccffff \n4     4        #ccccff  \n5     5     #ffd280     \n6     6         #ff9999 \n7     7         #ff9999 ",
      "text/html": "<div>\n<style scoped>\n    .dataframe tbody tr th:only-of-type {\n        vertical-align: middle;\n    }\n\n    .dataframe tbody tr th {\n        vertical-align: top;\n    }\n\n    .dataframe thead th {\n        text-align: right;\n    }\n</style>\n<table border=\"1\" class=\"dataframe\">\n  <thead>\n    <tr style=\"text-align: right;\">\n      <th></th>\n      <th>Hour</th>\n      <th>CodeforcesColor</th>\n    </tr>\n  </thead>\n  <tbody>\n    <tr>\n      <th>0</th>\n      <td>0</td>\n      <td>#808080</td>\n    </tr>\n    <tr>\n      <th>1</th>\n      <td>1</td>\n      <td>#808080</td>\n    </tr>\n    <tr>\n      <th>2</th>\n      <td>2</td>\n      <td>#e6ffe6</td>\n    </tr>\n    <tr>\n      <th>3</th>\n      <td>3</td>\n      <td>#ccffff</td>\n    </tr>\n    <tr>\n      <th>4</th>\n      <td>4</td>\n      <td>#ccccff</td>\n    </tr>\n    <tr>\n      <th>5</th>\n      <td>5</td>\n      <td>#ffd280</td>\n    </tr>\n    <tr>\n      <th>6</th>\n      <td>6</td>\n      <td>#ff9999</td>\n    </tr>\n    <tr>\n      <th>7</th>\n      <td>7</td>\n      <td>#ff9999</td>\n    </tr>\n  </tbody>\n</table>\n</div>"
     },
     "metadata": {},
     "execution_count": 6
    }
   ],
   "source": [
    "df"
   ]
  },
  {
   "cell_type": "code",
   "execution_count": 20,
   "metadata": {
    "tags": []
   },
   "outputs": [
    {
     "output_type": "stream",
     "name": "stdout",
     "text": "#ccccff\n#ccccff\n#e6ffe6\n#808080\n#808080\n#ccffff\n#ffd280\n#ccffff\n#808080\n"
    }
   ],
   "source": [
    "for i in range(len(Datewise)):\n",
    "    setColor = BarColorDatewise.iloc[int(Datewise.iloc[i][\"Duration\"]//60)][\"CodeforcesColor\"]\n",
    "    print(setColor)"
   ]
  },
  {
   "cell_type": "code",
   "execution_count": 14,
   "metadata": {},
   "outputs": [
    {
     "output_type": "execute_result",
     "data": {
      "text/plain": "     Date  Hour  Minute  Duration  Recent\n0  11 Jul     3      70       250      32\n1  12 Jul     1     200       260      56\n2  13 Jul     0     150       150      24\n3  14 Jul     0      65        65      15\n4  15 Jul     0       0         0       4\n5  16 Jul     1     140       200      18\n6  17 Jul     3     150       330      12\n7  18 Jul     1     147       207       6\n8  19 Jul     1      21        81       0",
      "text/html": "<div>\n<style scoped>\n    .dataframe tbody tr th:only-of-type {\n        vertical-align: middle;\n    }\n\n    .dataframe tbody tr th {\n        vertical-align: top;\n    }\n\n    .dataframe thead th {\n        text-align: right;\n    }\n</style>\n<table border=\"1\" class=\"dataframe\">\n  <thead>\n    <tr style=\"text-align: right;\">\n      <th></th>\n      <th>Date</th>\n      <th>Hour</th>\n      <th>Minute</th>\n      <th>Duration</th>\n      <th>Recent</th>\n    </tr>\n  </thead>\n  <tbody>\n    <tr>\n      <th>0</th>\n      <td>11 Jul</td>\n      <td>3</td>\n      <td>70</td>\n      <td>250</td>\n      <td>32</td>\n    </tr>\n    <tr>\n      <th>1</th>\n      <td>12 Jul</td>\n      <td>1</td>\n      <td>200</td>\n      <td>260</td>\n      <td>56</td>\n    </tr>\n    <tr>\n      <th>2</th>\n      <td>13 Jul</td>\n      <td>0</td>\n      <td>150</td>\n      <td>150</td>\n      <td>24</td>\n    </tr>\n    <tr>\n      <th>3</th>\n      <td>14 Jul</td>\n      <td>0</td>\n      <td>65</td>\n      <td>65</td>\n      <td>15</td>\n    </tr>\n    <tr>\n      <th>4</th>\n      <td>15 Jul</td>\n      <td>0</td>\n      <td>0</td>\n      <td>0</td>\n      <td>4</td>\n    </tr>\n    <tr>\n      <th>5</th>\n      <td>16 Jul</td>\n      <td>1</td>\n      <td>140</td>\n      <td>200</td>\n      <td>18</td>\n    </tr>\n    <tr>\n      <th>6</th>\n      <td>17 Jul</td>\n      <td>3</td>\n      <td>150</td>\n      <td>330</td>\n      <td>12</td>\n    </tr>\n    <tr>\n      <th>7</th>\n      <td>18 Jul</td>\n      <td>1</td>\n      <td>147</td>\n      <td>207</td>\n      <td>6</td>\n    </tr>\n    <tr>\n      <th>8</th>\n      <td>19 Jul</td>\n      <td>1</td>\n      <td>21</td>\n      <td>81</td>\n      <td>0</td>\n    </tr>\n  </tbody>\n</table>\n</div>"
     },
     "metadata": {},
     "execution_count": 14
    }
   ],
   "source": [
    "Datewise = df1.groupby([\"Date\"]).sum().reset_index()\n",
    "Datewise"
   ]
  },
  {
   "cell_type": "code",
   "execution_count": 11,
   "metadata": {},
   "outputs": [],
   "source": [
    "from datetime import datetime\n",
    "df1 = pd.read_csv(\"../database/result.csv\")\n",
    "# Adding Timedelta column\n",
    "# Making a time for MidNight which will use to calculate the query's in between the date\n",
    "Now = datetime.now()\n",
    "MidNight = datetime(year = Now.year,month = Now.month,day = Now.day,hour = 23,minute = 59,second = 59,microsecond = 200000)\n",
    "df1[\"Timedelta\"] = [MidNight - datetime.strptime(i,\"%d %b %Y\") for i in df1[\"startDate\"]]\n",
    "df1[\"Duration\"] = df1[\"Hour\"] * 60 + df1[\"Minute\"]\n",
    "df1[\"Recent\"] = [i.days for i in df1[\"Timedelta\"]]\n",
    "df1[\"Date\"] = [x.split(\" \")[0] + \" \" + x.split(\" \")[1] for x in df1[\"startDate\"]]"
   ]
  },
  {
   "cell_type": "code",
   "execution_count": 12,
   "metadata": {},
   "outputs": [
    {
     "output_type": "execute_result",
     "data": {
      "text/plain": "               Topic                   SubTopic    startDate startTime  \\\n0   Machine Learning            Backpropagation  11 Jul 2020  09:08 AM   \n1    Web Development                 NoteTaking  11 Jul 2020  01:30 PM   \n2            Project             Interval-Timer  11 Jul 2020  04:09 PM   \n3             Course                        ADA  11 Jul 2020  08:25 PM   \n4             Course                        ADA  12 Jul 2020  02:16 AM   \n5             Course                        ADA  12 Jul 2020  08:16 AM   \n6            Project             Interval-Timer  12 Jul 2020  09:08 AM   \n7            Project             Interval-Timer  12 Jul 2020  04:54 PM   \n8            Project             Interval-Timer  12 Jul 2020  06:37 PM   \n9            Project             Interval-Timer  12 Jul 2020  07:50 PM   \n10           Project             Interval-Timer  12 Jul 2020  08:31 PM   \n11            Typing                   Practice  12 Jul 2020  08:44 PM   \n12   Ethical Hacking                 Networking  13 Jul 2020  08:53 AM   \n13           Project                        API  13 Jul 2020  05:36 PM   \n14            Typing                   Practice  13 Jul 2020  08:34 PM   \n15           Project                        API  13 Jul 2020  11:09 PM   \n16           Project                        API  14 Jul 2020  11:10 AM   \n17            Course                   Software  14 Jul 2020  03:06 PM   \n18            Course                   Software  14 Jul 2020  10:14 PM   \n19            Course                   Software  15 Jul 2020  10:14 PM   \n20               DSA               Segment Tree  16 Jul 2020  06:22 PM   \n21           Project             Interval-Timer  16 Jul 2020  07:47 PM   \n22           Project             Interval-Timer  16 Jul 2020  08:28 PM   \n23               DSA            Codechef Series  16 Jul 2020  09:43 PM   \n24               DSA            Codechef Series  16 Jul 2020  10:53 PM   \n25            Typing                   Practice  16 Jul 2020  11:27 PM   \n26           Project             Interval-Timer  17 Jul 2020  08:13 AM   \n27               DSA               Segment Tree  17 Jul 2020  08:51 AM   \n28            Course                        PHP  17 Jul 2020  01:21 PM   \n29               DSA                  SWE drive  17 Jul 2020  01:53 PM   \n30           Project             Interval-Timer  17 Jul 2020  05:43 PM   \n31                CP                   656-div3  17 Jul 2020  08:05 PM   \n32            Course                        PHP  18 Jul 2020  12:21 AM   \n33            Course                        PHP  18 Jul 2020  07:01 AM   \n34                CP    E-div3-Topological_Sort  18 Jul 2020  06:56 PM   \n35            Typing                   Practice  18 Jul 2020  07:38 PM   \n36                CP  656-div3-Topological_Sort  18 Jul 2020  09:15 PM   \n37             Books        Think and Grow Rich  18 Jul 2020  10:32 PM   \n38               DSA             Algorithm Book  19 Jul 2020  07:08 AM   \n\n     endTime  Hour  Minute              Timedelta  Duration  Recent    Date  \n0   10:08 AM     1       0 8 days 23:59:59.200000        60       8  11 Jul  \n1   02:05 PM     0      35 8 days 23:59:59.200000        35       8  11 Jul  \n2   05:10 PM     1       0 8 days 23:59:59.200000        60       8  11 Jul  \n3   10:01 PM     1      35 8 days 23:59:59.200000        95       8  11 Jul  \n4   03:01 AM     0      45 7 days 23:59:59.200000        45       7  12 Jul  \n5   09:07 AM     0      50 7 days 23:59:59.200000        50       7  12 Jul  \n6   09:43 AM     0      35 7 days 23:59:59.200000        35       7  12 Jul  \n7   05:14 PM     0      20 7 days 23:59:59.200000        20       7  12 Jul  \n8   07:38 PM     1      15 7 days 23:59:59.200000        75       7  12 Jul  \n9   08:00 PM     0      10 7 days 23:59:59.200000        10       7  12 Jul  \n10  08:36 PM     0       5 7 days 23:59:59.200000         5       7  12 Jul  \n11  09:05 PM     0      20 7 days 23:59:59.200000        20       7  12 Jul  \n12  09:39 AM     0      45 6 days 23:59:59.200000        45       6  13 Jul  \n13  06:22 PM     0      45 6 days 23:59:59.200000        45       6  13 Jul  \n14  08:54 PM     0      20 6 days 23:59:59.200000        20       6  13 Jul  \n15  11:49 PM     0      40 6 days 23:59:59.200000        40       6  13 Jul  \n16  11:46 AM     0      35 5 days 23:59:59.200000        35       5  14 Jul  \n17  03:32 PM     0      25 5 days 23:59:59.200000        25       5  14 Jul  \n18  10:19 PM     0       5 5 days 23:59:59.200000         5       5  14 Jul  \n19  10:14 PM     0       0 4 days 23:59:59.200000         0       4  15 Jul  \n20  07:23 PM     1       0 3 days 23:59:59.200000        60       3  16 Jul  \n21  08:02 PM     0      15 3 days 23:59:59.200000        15       3  16 Jul  \n22  08:58 PM     0      30 3 days 23:59:59.200000        30       3  16 Jul  \n23  10:24 PM     0      40 3 days 23:59:59.200000        40       3  16 Jul  \n24  11:24 PM     0      30 3 days 23:59:59.200000        30       3  16 Jul  \n25  11:52 PM     0      25 3 days 23:59:59.200000        25       3  16 Jul  \n26  08:43 AM     0      30 2 days 23:59:59.200000        30       2  17 Jul  \n27  10:12 AM     1      20 2 days 23:59:59.200000        80       2  17 Jul  \n28  01:36 PM     0      15 2 days 23:59:59.200000        15       2  17 Jul  \n29  02:29 PM     0      35 2 days 23:59:59.200000        35       2  17 Jul  \n30  06:23 PM     0      40 2 days 23:59:59.200000        40       2  17 Jul  \n31  10:15 PM     2      10 2 days 23:59:59.200000       130       2  17 Jul  \n32  12:42 AM     0      20 1 days 23:59:59.200000        20       1  18 Jul  \n33  08:22 AM     1      20 1 days 23:59:59.200000        80       1  18 Jul  \n34  07:29 PM     0      32 1 days 23:59:59.200000        32       1  18 Jul  \n35  07:48 PM     0      10 1 days 23:59:59.200000        10       1  18 Jul  \n36  09:25 PM     0      10 1 days 23:59:59.200000        10       1  18 Jul  \n37  11:28 PM     0      55 1 days 23:59:59.200000        55       1  18 Jul  \n38  08:29 AM     1      21 0 days 23:59:59.200000        81       0  19 Jul  ",
      "text/html": "<div>\n<style scoped>\n    .dataframe tbody tr th:only-of-type {\n        vertical-align: middle;\n    }\n\n    .dataframe tbody tr th {\n        vertical-align: top;\n    }\n\n    .dataframe thead th {\n        text-align: right;\n    }\n</style>\n<table border=\"1\" class=\"dataframe\">\n  <thead>\n    <tr style=\"text-align: right;\">\n      <th></th>\n      <th>Topic</th>\n      <th>SubTopic</th>\n      <th>startDate</th>\n      <th>startTime</th>\n      <th>endTime</th>\n      <th>Hour</th>\n      <th>Minute</th>\n      <th>Timedelta</th>\n      <th>Duration</th>\n      <th>Recent</th>\n      <th>Date</th>\n    </tr>\n  </thead>\n  <tbody>\n    <tr>\n      <th>0</th>\n      <td>Machine Learning</td>\n      <td>Backpropagation</td>\n      <td>11 Jul 2020</td>\n      <td>09:08 AM</td>\n      <td>10:08 AM</td>\n      <td>1</td>\n      <td>0</td>\n      <td>8 days 23:59:59.200000</td>\n      <td>60</td>\n      <td>8</td>\n      <td>11 Jul</td>\n    </tr>\n    <tr>\n      <th>1</th>\n      <td>Web Development</td>\n      <td>NoteTaking</td>\n      <td>11 Jul 2020</td>\n      <td>01:30 PM</td>\n      <td>02:05 PM</td>\n      <td>0</td>\n      <td>35</td>\n      <td>8 days 23:59:59.200000</td>\n      <td>35</td>\n      <td>8</td>\n      <td>11 Jul</td>\n    </tr>\n    <tr>\n      <th>2</th>\n      <td>Project</td>\n      <td>Interval-Timer</td>\n      <td>11 Jul 2020</td>\n      <td>04:09 PM</td>\n      <td>05:10 PM</td>\n      <td>1</td>\n      <td>0</td>\n      <td>8 days 23:59:59.200000</td>\n      <td>60</td>\n      <td>8</td>\n      <td>11 Jul</td>\n    </tr>\n    <tr>\n      <th>3</th>\n      <td>Course</td>\n      <td>ADA</td>\n      <td>11 Jul 2020</td>\n      <td>08:25 PM</td>\n      <td>10:01 PM</td>\n      <td>1</td>\n      <td>35</td>\n      <td>8 days 23:59:59.200000</td>\n      <td>95</td>\n      <td>8</td>\n      <td>11 Jul</td>\n    </tr>\n    <tr>\n      <th>4</th>\n      <td>Course</td>\n      <td>ADA</td>\n      <td>12 Jul 2020</td>\n      <td>02:16 AM</td>\n      <td>03:01 AM</td>\n      <td>0</td>\n      <td>45</td>\n      <td>7 days 23:59:59.200000</td>\n      <td>45</td>\n      <td>7</td>\n      <td>12 Jul</td>\n    </tr>\n    <tr>\n      <th>5</th>\n      <td>Course</td>\n      <td>ADA</td>\n      <td>12 Jul 2020</td>\n      <td>08:16 AM</td>\n      <td>09:07 AM</td>\n      <td>0</td>\n      <td>50</td>\n      <td>7 days 23:59:59.200000</td>\n      <td>50</td>\n      <td>7</td>\n      <td>12 Jul</td>\n    </tr>\n    <tr>\n      <th>6</th>\n      <td>Project</td>\n      <td>Interval-Timer</td>\n      <td>12 Jul 2020</td>\n      <td>09:08 AM</td>\n      <td>09:43 AM</td>\n      <td>0</td>\n      <td>35</td>\n      <td>7 days 23:59:59.200000</td>\n      <td>35</td>\n      <td>7</td>\n      <td>12 Jul</td>\n    </tr>\n    <tr>\n      <th>7</th>\n      <td>Project</td>\n      <td>Interval-Timer</td>\n      <td>12 Jul 2020</td>\n      <td>04:54 PM</td>\n      <td>05:14 PM</td>\n      <td>0</td>\n      <td>20</td>\n      <td>7 days 23:59:59.200000</td>\n      <td>20</td>\n      <td>7</td>\n      <td>12 Jul</td>\n    </tr>\n    <tr>\n      <th>8</th>\n      <td>Project</td>\n      <td>Interval-Timer</td>\n      <td>12 Jul 2020</td>\n      <td>06:37 PM</td>\n      <td>07:38 PM</td>\n      <td>1</td>\n      <td>15</td>\n      <td>7 days 23:59:59.200000</td>\n      <td>75</td>\n      <td>7</td>\n      <td>12 Jul</td>\n    </tr>\n    <tr>\n      <th>9</th>\n      <td>Project</td>\n      <td>Interval-Timer</td>\n      <td>12 Jul 2020</td>\n      <td>07:50 PM</td>\n      <td>08:00 PM</td>\n      <td>0</td>\n      <td>10</td>\n      <td>7 days 23:59:59.200000</td>\n      <td>10</td>\n      <td>7</td>\n      <td>12 Jul</td>\n    </tr>\n    <tr>\n      <th>10</th>\n      <td>Project</td>\n      <td>Interval-Timer</td>\n      <td>12 Jul 2020</td>\n      <td>08:31 PM</td>\n      <td>08:36 PM</td>\n      <td>0</td>\n      <td>5</td>\n      <td>7 days 23:59:59.200000</td>\n      <td>5</td>\n      <td>7</td>\n      <td>12 Jul</td>\n    </tr>\n    <tr>\n      <th>11</th>\n      <td>Typing</td>\n      <td>Practice</td>\n      <td>12 Jul 2020</td>\n      <td>08:44 PM</td>\n      <td>09:05 PM</td>\n      <td>0</td>\n      <td>20</td>\n      <td>7 days 23:59:59.200000</td>\n      <td>20</td>\n      <td>7</td>\n      <td>12 Jul</td>\n    </tr>\n    <tr>\n      <th>12</th>\n      <td>Ethical Hacking</td>\n      <td>Networking</td>\n      <td>13 Jul 2020</td>\n      <td>08:53 AM</td>\n      <td>09:39 AM</td>\n      <td>0</td>\n      <td>45</td>\n      <td>6 days 23:59:59.200000</td>\n      <td>45</td>\n      <td>6</td>\n      <td>13 Jul</td>\n    </tr>\n    <tr>\n      <th>13</th>\n      <td>Project</td>\n      <td>API</td>\n      <td>13 Jul 2020</td>\n      <td>05:36 PM</td>\n      <td>06:22 PM</td>\n      <td>0</td>\n      <td>45</td>\n      <td>6 days 23:59:59.200000</td>\n      <td>45</td>\n      <td>6</td>\n      <td>13 Jul</td>\n    </tr>\n    <tr>\n      <th>14</th>\n      <td>Typing</td>\n      <td>Practice</td>\n      <td>13 Jul 2020</td>\n      <td>08:34 PM</td>\n      <td>08:54 PM</td>\n      <td>0</td>\n      <td>20</td>\n      <td>6 days 23:59:59.200000</td>\n      <td>20</td>\n      <td>6</td>\n      <td>13 Jul</td>\n    </tr>\n    <tr>\n      <th>15</th>\n      <td>Project</td>\n      <td>API</td>\n      <td>13 Jul 2020</td>\n      <td>11:09 PM</td>\n      <td>11:49 PM</td>\n      <td>0</td>\n      <td>40</td>\n      <td>6 days 23:59:59.200000</td>\n      <td>40</td>\n      <td>6</td>\n      <td>13 Jul</td>\n    </tr>\n    <tr>\n      <th>16</th>\n      <td>Project</td>\n      <td>API</td>\n      <td>14 Jul 2020</td>\n      <td>11:10 AM</td>\n      <td>11:46 AM</td>\n      <td>0</td>\n      <td>35</td>\n      <td>5 days 23:59:59.200000</td>\n      <td>35</td>\n      <td>5</td>\n      <td>14 Jul</td>\n    </tr>\n    <tr>\n      <th>17</th>\n      <td>Course</td>\n      <td>Software</td>\n      <td>14 Jul 2020</td>\n      <td>03:06 PM</td>\n      <td>03:32 PM</td>\n      <td>0</td>\n      <td>25</td>\n      <td>5 days 23:59:59.200000</td>\n      <td>25</td>\n      <td>5</td>\n      <td>14 Jul</td>\n    </tr>\n    <tr>\n      <th>18</th>\n      <td>Course</td>\n      <td>Software</td>\n      <td>14 Jul 2020</td>\n      <td>10:14 PM</td>\n      <td>10:19 PM</td>\n      <td>0</td>\n      <td>5</td>\n      <td>5 days 23:59:59.200000</td>\n      <td>5</td>\n      <td>5</td>\n      <td>14 Jul</td>\n    </tr>\n    <tr>\n      <th>19</th>\n      <td>Course</td>\n      <td>Software</td>\n      <td>15 Jul 2020</td>\n      <td>10:14 PM</td>\n      <td>10:14 PM</td>\n      <td>0</td>\n      <td>0</td>\n      <td>4 days 23:59:59.200000</td>\n      <td>0</td>\n      <td>4</td>\n      <td>15 Jul</td>\n    </tr>\n    <tr>\n      <th>20</th>\n      <td>DSA</td>\n      <td>Segment Tree</td>\n      <td>16 Jul 2020</td>\n      <td>06:22 PM</td>\n      <td>07:23 PM</td>\n      <td>1</td>\n      <td>0</td>\n      <td>3 days 23:59:59.200000</td>\n      <td>60</td>\n      <td>3</td>\n      <td>16 Jul</td>\n    </tr>\n    <tr>\n      <th>21</th>\n      <td>Project</td>\n      <td>Interval-Timer</td>\n      <td>16 Jul 2020</td>\n      <td>07:47 PM</td>\n      <td>08:02 PM</td>\n      <td>0</td>\n      <td>15</td>\n      <td>3 days 23:59:59.200000</td>\n      <td>15</td>\n      <td>3</td>\n      <td>16 Jul</td>\n    </tr>\n    <tr>\n      <th>22</th>\n      <td>Project</td>\n      <td>Interval-Timer</td>\n      <td>16 Jul 2020</td>\n      <td>08:28 PM</td>\n      <td>08:58 PM</td>\n      <td>0</td>\n      <td>30</td>\n      <td>3 days 23:59:59.200000</td>\n      <td>30</td>\n      <td>3</td>\n      <td>16 Jul</td>\n    </tr>\n    <tr>\n      <th>23</th>\n      <td>DSA</td>\n      <td>Codechef Series</td>\n      <td>16 Jul 2020</td>\n      <td>09:43 PM</td>\n      <td>10:24 PM</td>\n      <td>0</td>\n      <td>40</td>\n      <td>3 days 23:59:59.200000</td>\n      <td>40</td>\n      <td>3</td>\n      <td>16 Jul</td>\n    </tr>\n    <tr>\n      <th>24</th>\n      <td>DSA</td>\n      <td>Codechef Series</td>\n      <td>16 Jul 2020</td>\n      <td>10:53 PM</td>\n      <td>11:24 PM</td>\n      <td>0</td>\n      <td>30</td>\n      <td>3 days 23:59:59.200000</td>\n      <td>30</td>\n      <td>3</td>\n      <td>16 Jul</td>\n    </tr>\n    <tr>\n      <th>25</th>\n      <td>Typing</td>\n      <td>Practice</td>\n      <td>16 Jul 2020</td>\n      <td>11:27 PM</td>\n      <td>11:52 PM</td>\n      <td>0</td>\n      <td>25</td>\n      <td>3 days 23:59:59.200000</td>\n      <td>25</td>\n      <td>3</td>\n      <td>16 Jul</td>\n    </tr>\n    <tr>\n      <th>26</th>\n      <td>Project</td>\n      <td>Interval-Timer</td>\n      <td>17 Jul 2020</td>\n      <td>08:13 AM</td>\n      <td>08:43 AM</td>\n      <td>0</td>\n      <td>30</td>\n      <td>2 days 23:59:59.200000</td>\n      <td>30</td>\n      <td>2</td>\n      <td>17 Jul</td>\n    </tr>\n    <tr>\n      <th>27</th>\n      <td>DSA</td>\n      <td>Segment Tree</td>\n      <td>17 Jul 2020</td>\n      <td>08:51 AM</td>\n      <td>10:12 AM</td>\n      <td>1</td>\n      <td>20</td>\n      <td>2 days 23:59:59.200000</td>\n      <td>80</td>\n      <td>2</td>\n      <td>17 Jul</td>\n    </tr>\n    <tr>\n      <th>28</th>\n      <td>Course</td>\n      <td>PHP</td>\n      <td>17 Jul 2020</td>\n      <td>01:21 PM</td>\n      <td>01:36 PM</td>\n      <td>0</td>\n      <td>15</td>\n      <td>2 days 23:59:59.200000</td>\n      <td>15</td>\n      <td>2</td>\n      <td>17 Jul</td>\n    </tr>\n    <tr>\n      <th>29</th>\n      <td>DSA</td>\n      <td>SWE drive</td>\n      <td>17 Jul 2020</td>\n      <td>01:53 PM</td>\n      <td>02:29 PM</td>\n      <td>0</td>\n      <td>35</td>\n      <td>2 days 23:59:59.200000</td>\n      <td>35</td>\n      <td>2</td>\n      <td>17 Jul</td>\n    </tr>\n    <tr>\n      <th>30</th>\n      <td>Project</td>\n      <td>Interval-Timer</td>\n      <td>17 Jul 2020</td>\n      <td>05:43 PM</td>\n      <td>06:23 PM</td>\n      <td>0</td>\n      <td>40</td>\n      <td>2 days 23:59:59.200000</td>\n      <td>40</td>\n      <td>2</td>\n      <td>17 Jul</td>\n    </tr>\n    <tr>\n      <th>31</th>\n      <td>CP</td>\n      <td>656-div3</td>\n      <td>17 Jul 2020</td>\n      <td>08:05 PM</td>\n      <td>10:15 PM</td>\n      <td>2</td>\n      <td>10</td>\n      <td>2 days 23:59:59.200000</td>\n      <td>130</td>\n      <td>2</td>\n      <td>17 Jul</td>\n    </tr>\n    <tr>\n      <th>32</th>\n      <td>Course</td>\n      <td>PHP</td>\n      <td>18 Jul 2020</td>\n      <td>12:21 AM</td>\n      <td>12:42 AM</td>\n      <td>0</td>\n      <td>20</td>\n      <td>1 days 23:59:59.200000</td>\n      <td>20</td>\n      <td>1</td>\n      <td>18 Jul</td>\n    </tr>\n    <tr>\n      <th>33</th>\n      <td>Course</td>\n      <td>PHP</td>\n      <td>18 Jul 2020</td>\n      <td>07:01 AM</td>\n      <td>08:22 AM</td>\n      <td>1</td>\n      <td>20</td>\n      <td>1 days 23:59:59.200000</td>\n      <td>80</td>\n      <td>1</td>\n      <td>18 Jul</td>\n    </tr>\n    <tr>\n      <th>34</th>\n      <td>CP</td>\n      <td>E-div3-Topological_Sort</td>\n      <td>18 Jul 2020</td>\n      <td>06:56 PM</td>\n      <td>07:29 PM</td>\n      <td>0</td>\n      <td>32</td>\n      <td>1 days 23:59:59.200000</td>\n      <td>32</td>\n      <td>1</td>\n      <td>18 Jul</td>\n    </tr>\n    <tr>\n      <th>35</th>\n      <td>Typing</td>\n      <td>Practice</td>\n      <td>18 Jul 2020</td>\n      <td>07:38 PM</td>\n      <td>07:48 PM</td>\n      <td>0</td>\n      <td>10</td>\n      <td>1 days 23:59:59.200000</td>\n      <td>10</td>\n      <td>1</td>\n      <td>18 Jul</td>\n    </tr>\n    <tr>\n      <th>36</th>\n      <td>CP</td>\n      <td>656-div3-Topological_Sort</td>\n      <td>18 Jul 2020</td>\n      <td>09:15 PM</td>\n      <td>09:25 PM</td>\n      <td>0</td>\n      <td>10</td>\n      <td>1 days 23:59:59.200000</td>\n      <td>10</td>\n      <td>1</td>\n      <td>18 Jul</td>\n    </tr>\n    <tr>\n      <th>37</th>\n      <td>Books</td>\n      <td>Think and Grow Rich</td>\n      <td>18 Jul 2020</td>\n      <td>10:32 PM</td>\n      <td>11:28 PM</td>\n      <td>0</td>\n      <td>55</td>\n      <td>1 days 23:59:59.200000</td>\n      <td>55</td>\n      <td>1</td>\n      <td>18 Jul</td>\n    </tr>\n    <tr>\n      <th>38</th>\n      <td>DSA</td>\n      <td>Algorithm Book</td>\n      <td>19 Jul 2020</td>\n      <td>07:08 AM</td>\n      <td>08:29 AM</td>\n      <td>1</td>\n      <td>21</td>\n      <td>0 days 23:59:59.200000</td>\n      <td>81</td>\n      <td>0</td>\n      <td>19 Jul</td>\n    </tr>\n  </tbody>\n</table>\n</div>"
     },
     "metadata": {},
     "execution_count": 12
    }
   ],
   "source": [
    "df1"
   ]
  },
  {
   "cell_type": "code",
   "execution_count": null,
   "metadata": {},
   "outputs": [],
   "source": []
  }
 ]
}