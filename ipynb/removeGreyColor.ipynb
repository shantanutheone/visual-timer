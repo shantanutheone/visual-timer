{
 "metadata": {
  "language_info": {
   "codemirror_mode": {
    "name": "ipython",
    "version": 3
   },
   "file_extension": ".py",
   "mimetype": "text/x-python",
   "name": "python",
   "nbconvert_exporter": "python",
   "pygments_lexer": "ipython3",
   "version": 3
  },
  "orig_nbformat": 2,
  "kernelspec": {
   "name": "python_defaultSpec_1595138143446",
   "display_name": "Python 3.8.3 64-bit"
  }
 },
 "nbformat": 4,
 "nbformat_minor": 2,
 "cells": [
  {
   "cell_type": "code",
   "execution_count": 1,
   "metadata": {},
   "outputs": [],
   "source": [
    "import pandas as pd\n",
    "import matplotlib.pyplot as plt"
   ]
  },
  {
   "cell_type": "code",
   "execution_count": 2,
   "metadata": {},
   "outputs": [],
   "source": [
    "df = pd.read_csv(\"../database/result.csv\")"
   ]
  },
  {
   "cell_type": "code",
   "execution_count": 4,
   "metadata": {},
   "outputs": [],
   "source": [
    "color = pd.read_csv(\"../database/color.csv\")"
   ]
  },
  {
   "cell_type": "code",
   "execution_count": 6,
   "metadata": {},
   "outputs": [],
   "source": [
    "Grouped = df.groupby([\"Topic\"]).sum().reset_index()"
   ]
  },
  {
   "cell_type": "code",
   "execution_count": 7,
   "metadata": {},
   "outputs": [
    {
     "output_type": "execute_result",
     "data": {
      "text/plain": "              Topic  Hour  Minute\n0             Books     0      55\n1                CP     2      52\n2            Course     2     215\n3               DSA     3     146\n4   Ethical Hacking     0      45\n5  Machine Learning     1       0\n6           Project     2     320\n7            Typing     0      75\n8   Web Development     0      35",
      "text/html": "<div>\n<style scoped>\n    .dataframe tbody tr th:only-of-type {\n        vertical-align: middle;\n    }\n\n    .dataframe tbody tr th {\n        vertical-align: top;\n    }\n\n    .dataframe thead th {\n        text-align: right;\n    }\n</style>\n<table border=\"1\" class=\"dataframe\">\n  <thead>\n    <tr style=\"text-align: right;\">\n      <th></th>\n      <th>Topic</th>\n      <th>Hour</th>\n      <th>Minute</th>\n    </tr>\n  </thead>\n  <tbody>\n    <tr>\n      <th>0</th>\n      <td>Books</td>\n      <td>0</td>\n      <td>55</td>\n    </tr>\n    <tr>\n      <th>1</th>\n      <td>CP</td>\n      <td>2</td>\n      <td>52</td>\n    </tr>\n    <tr>\n      <th>2</th>\n      <td>Course</td>\n      <td>2</td>\n      <td>215</td>\n    </tr>\n    <tr>\n      <th>3</th>\n      <td>DSA</td>\n      <td>3</td>\n      <td>146</td>\n    </tr>\n    <tr>\n      <th>4</th>\n      <td>Ethical Hacking</td>\n      <td>0</td>\n      <td>45</td>\n    </tr>\n    <tr>\n      <th>5</th>\n      <td>Machine Learning</td>\n      <td>1</td>\n      <td>0</td>\n    </tr>\n    <tr>\n      <th>6</th>\n      <td>Project</td>\n      <td>2</td>\n      <td>320</td>\n    </tr>\n    <tr>\n      <th>7</th>\n      <td>Typing</td>\n      <td>0</td>\n      <td>75</td>\n    </tr>\n    <tr>\n      <th>8</th>\n      <td>Web Development</td>\n      <td>0</td>\n      <td>35</td>\n    </tr>\n  </tbody>\n</table>\n</div>"
     },
     "metadata": {},
     "execution_count": 7
    }
   ],
   "source": [
    "Grouped"
   ]
  },
  {
   "cell_type": "code",
   "execution_count": 11,
   "metadata": {},
   "outputs": [
    {
     "output_type": "execute_result",
     "data": {
      "text/plain": "     Topic  Hour  Minute\n0    Books     0      55\n1       CP     2      52\n3      DSA     3     146\n6  Project     2     320\n7   Typing     0      75",
      "text/html": "<div>\n<style scoped>\n    .dataframe tbody tr th:only-of-type {\n        vertical-align: middle;\n    }\n\n    .dataframe tbody tr th {\n        vertical-align: top;\n    }\n\n    .dataframe thead th {\n        text-align: right;\n    }\n</style>\n<table border=\"1\" class=\"dataframe\">\n  <thead>\n    <tr style=\"text-align: right;\">\n      <th></th>\n      <th>Topic</th>\n      <th>Hour</th>\n      <th>Minute</th>\n    </tr>\n  </thead>\n  <tbody>\n    <tr>\n      <th>0</th>\n      <td>Books</td>\n      <td>0</td>\n      <td>55</td>\n    </tr>\n    <tr>\n      <th>1</th>\n      <td>CP</td>\n      <td>2</td>\n      <td>52</td>\n    </tr>\n    <tr>\n      <th>3</th>\n      <td>DSA</td>\n      <td>3</td>\n      <td>146</td>\n    </tr>\n    <tr>\n      <th>6</th>\n      <td>Project</td>\n      <td>2</td>\n      <td>320</td>\n    </tr>\n    <tr>\n      <th>7</th>\n      <td>Typing</td>\n      <td>0</td>\n      <td>75</td>\n    </tr>\n  </tbody>\n</table>\n</div>"
     },
     "metadata": {},
     "execution_count": 11
    }
   ],
   "source": [
    "Grouped[Grouped[\"Topic\"].isin(color[color[\"Color\"]!=\"#808080\"][\"Topic\"])]"
   ]
  },
  {
   "cell_type": "code",
   "execution_count": null,
   "metadata": {},
   "outputs": [],
   "source": []
  }
 ]
}